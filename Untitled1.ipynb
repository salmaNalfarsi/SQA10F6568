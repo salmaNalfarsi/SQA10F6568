{
  "nbformat": 4,
  "nbformat_minor": 0,
  "metadata": {
    "colab": {
      "provenance": [],
      "mount_file_id": "1W7uY4WZdO9JiRpc7LYCELTI3KFtMhLRs",
      "authorship_tag": "ABX9TyNpEcHIxFXIm03jd5Y8LZkA",
      "include_colab_link": true
    },
    "kernelspec": {
      "name": "python3",
      "display_name": "Python 3"
    },
    "language_info": {
      "name": "python"
    }
  },
  "cells": [
    {
      "cell_type": "markdown",
      "metadata": {
        "id": "view-in-github",
        "colab_type": "text"
      },
      "source": [
        "<a href=\"https://colab.research.google.com/github/salmaNalfarsi/SQA10F6568/blob/main/Untitled1.ipynb\" target=\"_parent\"><img src=\"https://colab.research.google.com/assets/colab-badge.svg\" alt=\"Open In Colab\"/></a>"
      ]
    },
    {
      "cell_type": "code",
      "source": [
        "from google.colab import drive\n",
        "drive.mount('/content/drive', force_remount=True)"
      ],
      "metadata": {
        "colab": {
          "base_uri": "https://localhost:8080/"
        },
        "id": "XJ7lBn9OmLqe",
        "outputId": "8f7195fc-31df-43be-b867-bf1bc1fcd6a6"
      },
      "execution_count": null,
      "outputs": [
        {
          "output_type": "stream",
          "name": "stdout",
          "text": [
            "Mounted at /content/drive\n"
          ]
        }
      ]
    },
    {
      "cell_type": "code",
      "source": [
        "!ls \"/content/drive/MyDrive\""
      ],
      "metadata": {
        "colab": {
          "base_uri": "https://localhost:8080/"
        },
        "id": "1o-_VmKNHH-F",
        "outputId": "c25b4b75-d472-492d-f89b-9f315a983912"
      },
      "execution_count": null,
      "outputs": [
        {
          "output_type": "stream",
          "name": "stdout",
          "text": [
            "'Colab Notebooks'\t 'flower_photos .tgz'\t\t      test\t        Untitled1.ipynb\n",
            " depates.docx\t\t 'Group Report - DRIVE.gdoc'\t      train\n",
            "'flower_photos (1).tgz'  'Template - Group Report (1).gdoc'   Untitled0.ipynb\n"
          ]
        }
      ]
    },
    {
      "cell_type": "code",
      "source": [
        "# Define paths to the dataset\n",
        "train_dir = '/content/drive/MyDrive/train'  # Update with your actual path\n",
        "test_dir = '/content/drive/MyDrive/test'"
      ],
      "metadata": {
        "id": "yfqp0bw3dSk_"
      },
      "execution_count": null,
      "outputs": []
    },
    {
      "cell_type": "code",
      "source": [
        "\n",
        "import os\n",
        "print(len(os.listdir('/content/drive/MyDrive/test/daisy')))\n",
        "print(len(os.listdir('/content/drive/MyDrive/train/daisy')))\n",
        "print(len(os.listdir('/content/drive/MyDrive/test/dandelion')))\n",
        "print(len(os.listdir('/content/drive/MyDrive/train/dandelion')))\n",
        "print(len(os.listdir('/content/drive/MyDrive/test/roses')))\n",
        "print(len(os.listdir('/content/drive/MyDrive/train/roses')))\n",
        "print(len(os.listdir('/content/drive/MyDrive/test/sunflowers')))\n",
        "print(len(os.listdir('/content/drive/MyDrive/train/sunflowers')))\n",
        "print(len(os.listdir('/content/drive/MyDrive/test/tulips')))\n",
        "print(len(os.listdir('/content/drive/MyDrive/train/tulips')))"
      ],
      "metadata": {
        "colab": {
          "base_uri": "https://localhost:8080/"
        },
        "id": "AQV6mWQYcB1S",
        "outputId": "97f625c5-6354-4481-be3e-de15866f9d76"
      },
      "execution_count": null,
      "outputs": [
        {
          "output_type": "stream",
          "name": "stdout",
          "text": [
            "72\n",
            "24\n",
            "56\n",
            "56\n",
            "36\n",
            "36\n",
            "48\n",
            "28\n",
            "60\n",
            "36\n"
          ]
        }
      ]
    },
    {
      "cell_type": "code",
      "source": [
        "import tensorflow as tf\n",
        "from tensorflow.keras.preprocessing.image import ImageDataGenerator\n",
        "\n",
        "# Create ImageDataGenerator for training set\n",
        "train_datagen = ImageDataGenerator(\n",
        "    rescale=1./255,\n",
        "    validation_split=0.2  # Split 20% of the images for validation\n",
        ")\n",
        "\n",
        "# Load and prepare training data\n",
        "train_data = train_datagen.flow_from_directory(\n",
        "    train_dir,\n",
        "    target_size=(256,256),\n",
        "    batch_size=32,\n",
        "    class_mode='binary',  # 'binary' for binary classification (cats vs. dogs)\n",
        "    subset='training'  # Specify 'training' for the training set\n",
        ")\n",
        "\n",
        "# Create ImageDataGenerator for validation set\n",
        "validation_datagen = ImageDataGenerator(\n",
        "    rescale=1./255,\n",
        "    validation_split=0.2  # Note: Using the same validation split as in the training set\n",
        ")\n",
        "\n",
        "# Load and prepare validation data\n",
        "validation_data = validation_datagen.flow_from_directory(\n",
        "    train_dir,\n",
        "    target_size=(256,256),\n",
        "    batch_size=32,\n",
        "    class_mode='binary',\n",
        "    subset='validation'  # Specify 'validation' for the validation set\n",
        ")"
      ],
      "metadata": {
        "colab": {
          "base_uri": "https://localhost:8080/"
        },
        "id": "bjlbLebAcK8i",
        "outputId": "4089d808-8303-4573-8f82-ef5a9efdc78d"
      },
      "execution_count": null,
      "outputs": [
        {
          "output_type": "stream",
          "name": "stdout",
          "text": [
            "Found 146 images belonging to 6 classes.\n",
            "Found 34 images belonging to 6 classes.\n"
          ]
        }
      ]
    },
    {
      "cell_type": "code",
      "source": [
        "len(predictions)"
      ],
      "metadata": {
        "colab": {
          "base_uri": "https://localhost:8080/"
        },
        "id": "G39LYWFCaGzz",
        "outputId": "016c6742-9889-4c8c-cc80-0c65c7a1bdad"
      },
      "execution_count": null,
      "outputs": [
        {
          "output_type": "execute_result",
          "data": {
            "text/plain": [
              "272"
            ]
          },
          "metadata": {},
          "execution_count": 32
        }
      ]
    },
    {
      "cell_type": "code",
      "source": [
        "from tensorflow import keras\n",
        "from keras import Sequential\n",
        "from keras.layers import Dense,Conv2D,MaxPooling2D,Flatten,BatchNormalization,UpSampling2D, Dropout"
      ],
      "metadata": {
        "id": "yrk69h1yceVk"
      },
      "execution_count": null,
      "outputs": []
    },
    {
      "cell_type": "code",
      "source": [
        "\n",
        "model = Sequential()\n",
        "\n",
        "model.add(Conv2D(32,kernel_size=(3,3),padding='valid',activation='relu',input_shape=(256,256,3)))  # 32 filters\n",
        "#model.add(BatchNormalization())  # added to reduce overfitting\n",
        "model.add(MaxPooling2D(pool_size=(2,2),strides=2,padding='valid'))\n",
        "\n",
        "model.add(Conv2D(64,kernel_size=(3,3),padding='valid',activation='relu'))\n",
        "#model.add(BatchNormalization())  # added to reduce overfitting\n",
        "model.add(MaxPooling2D(pool_size=(2,2),strides=2,padding='valid'))\n",
        "\n",
        "model.add(Conv2D(128,kernel_size=(3,3),padding='valid',activation='relu'))\n",
        "#model.add(BatchNormalization())  # added to reduce overfitting\n",
        "model.add(MaxPooling2D(pool_size=(2,2),strides=2,padding='valid'))\n",
        "\n",
        "model.add(Flatten())\n",
        "\n",
        "model.add(Dense(128,activation='relu')) #feature reduction\n",
        "#model.add(Dropout(0.1))  # added to reduce overfitting\n",
        "model.add(Dense(64,activation='relu'))\n",
        "#model.add(Dropout(0.1))  # added to reduce overfitting\n",
        "model.add(Dense(1,activation='sigmoid'))  #output layer"
      ],
      "metadata": {
        "id": "2qN-7gr1ckk3"
      },
      "execution_count": null,
      "outputs": []
    },
    {
      "cell_type": "code",
      "source": [
        "from keras.optimizers import Adam\n",
        "model.compile(optimizer=Adam(learning_rate=0.001),loss='binary_crossentropy',metrics=['accuracy']) #binary_crossentropy - binary classification"
      ],
      "metadata": {
        "id": "vmjUr5_Jc0PR"
      },
      "execution_count": null,
      "outputs": []
    },
    {
      "cell_type": "code",
      "source": [
        "history = model.fit(train_data, epochs=30, validation_data=validation_data)"
      ],
      "metadata": {
        "colab": {
          "base_uri": "https://localhost:8080/"
        },
        "id": "uagNGQuyc9Qs",
        "outputId": "26da92b8-1486-463c-ae7f-90d67982fa70"
      },
      "execution_count": null,
      "outputs": [
        {
          "output_type": "stream",
          "name": "stdout",
          "text": [
            "Epoch 1/30\n",
            "5/5 [==============================] - 24s 4s/step - loss: -220.1079 - accuracy: 0.1370 - val_loss: -1154.6121 - val_accuracy: 0.1176\n",
            "Epoch 2/30\n",
            "5/5 [==============================] - 22s 4s/step - loss: -4608.5449 - accuracy: 0.1370 - val_loss: -14204.2559 - val_accuracy: 0.1176\n",
            "Epoch 3/30\n",
            "5/5 [==============================] - 24s 4s/step - loss: -34340.3125 - accuracy: 0.1370 - val_loss: -88790.8125 - val_accuracy: 0.1176\n",
            "Epoch 4/30\n",
            "5/5 [==============================] - 21s 4s/step - loss: -159673.8125 - accuracy: 0.1370 - val_loss: -390781.8750 - val_accuracy: 0.1176\n",
            "Epoch 5/30\n",
            "5/5 [==============================] - 21s 4s/step - loss: -633899.3125 - accuracy: 0.1370 - val_loss: -1390065.6250 - val_accuracy: 0.1176\n",
            "Epoch 6/30\n",
            "5/5 [==============================] - 21s 4s/step - loss: -2187300.7500 - accuracy: 0.1370 - val_loss: -4186722.2500 - val_accuracy: 0.1176\n",
            "Epoch 7/30\n",
            "5/5 [==============================] - 22s 4s/step - loss: -5826389.0000 - accuracy: 0.1370 - val_loss: -11250712.0000 - val_accuracy: 0.1176\n",
            "Epoch 8/30\n",
            "5/5 [==============================] - 22s 4s/step - loss: -15196958.0000 - accuracy: 0.1370 - val_loss: -27704792.0000 - val_accuracy: 0.1176\n",
            "Epoch 9/30\n",
            "5/5 [==============================] - 20s 5s/step - loss: -38321160.0000 - accuracy: 0.1370 - val_loss: -63204932.0000 - val_accuracy: 0.1176\n",
            "Epoch 10/30\n",
            "5/5 [==============================] - 22s 4s/step - loss: -78015456.0000 - accuracy: 0.1370 - val_loss: -134817152.0000 - val_accuracy: 0.1176\n",
            "Epoch 11/30\n",
            "5/5 [==============================] - 21s 5s/step - loss: -176135632.0000 - accuracy: 0.1370 - val_loss: -270273920.0000 - val_accuracy: 0.1176\n",
            "Epoch 12/30\n",
            "5/5 [==============================] - 22s 4s/step - loss: -326925312.0000 - accuracy: 0.1370 - val_loss: -516392544.0000 - val_accuracy: 0.1176\n",
            "Epoch 13/30\n",
            "5/5 [==============================] - 21s 4s/step - loss: -602069440.0000 - accuracy: 0.1370 - val_loss: -947765248.0000 - val_accuracy: 0.1176\n",
            "Epoch 14/30\n",
            "5/5 [==============================] - 22s 4s/step - loss: -1095795840.0000 - accuracy: 0.1370 - val_loss: -1669041280.0000 - val_accuracy: 0.1176\n",
            "Epoch 15/30\n",
            "5/5 [==============================] - 20s 4s/step - loss: -1930790272.0000 - accuracy: 0.1370 - val_loss: -2842781440.0000 - val_accuracy: 0.1176\n",
            "Epoch 16/30\n",
            "5/5 [==============================] - 21s 4s/step - loss: -3170662144.0000 - accuracy: 0.1370 - val_loss: -4696564736.0000 - val_accuracy: 0.1176\n",
            "Epoch 17/30\n",
            "5/5 [==============================] - 20s 4s/step - loss: -5333687296.0000 - accuracy: 0.1370 - val_loss: -7535006208.0000 - val_accuracy: 0.1176\n",
            "Epoch 18/30\n",
            "5/5 [==============================] - 23s 4s/step - loss: -8429259264.0000 - accuracy: 0.1370 - val_loss: -11780114432.0000 - val_accuracy: 0.1176\n",
            "Epoch 19/30\n",
            "5/5 [==============================] - 20s 4s/step - loss: -13186969600.0000 - accuracy: 0.1370 - val_loss: -18046234624.0000 - val_accuracy: 0.1176\n",
            "Epoch 20/30\n",
            "5/5 [==============================] - 20s 4s/step - loss: -19784364032.0000 - accuracy: 0.1370 - val_loss: -27086061568.0000 - val_accuracy: 0.1176\n",
            "Epoch 21/30\n",
            "5/5 [==============================] - 22s 4s/step - loss: -28883912704.0000 - accuracy: 0.1370 - val_loss: -39843266560.0000 - val_accuracy: 0.1176\n",
            "Epoch 22/30\n",
            "5/5 [==============================] - 21s 4s/step - loss: -43147145216.0000 - accuracy: 0.1370 - val_loss: -57462525952.0000 - val_accuracy: 0.1176\n",
            "Epoch 23/30\n",
            "5/5 [==============================] - 23s 5s/step - loss: -62337892352.0000 - accuracy: 0.1370 - val_loss: -81759215616.0000 - val_accuracy: 0.1176\n",
            "Epoch 24/30\n",
            "5/5 [==============================] - 20s 4s/step - loss: -86316548096.0000 - accuracy: 0.1370 - val_loss: -114707283968.0000 - val_accuracy: 0.1176\n",
            "Epoch 25/30\n",
            "5/5 [==============================] - 20s 4s/step - loss: -121278849024.0000 - accuracy: 0.1370 - val_loss: -158673649664.0000 - val_accuracy: 0.1176\n",
            "Epoch 26/30\n",
            "5/5 [==============================] - 22s 4s/step - loss: -164387733504.0000 - accuracy: 0.1370 - val_loss: -216647516160.0000 - val_accuracy: 0.1176\n",
            "Epoch 27/30\n",
            "5/5 [==============================] - 20s 4s/step - loss: -226580905984.0000 - accuracy: 0.1370 - val_loss: -292081172480.0000 - val_accuracy: 0.1176\n",
            "Epoch 28/30\n",
            "5/5 [==============================] - 20s 4s/step - loss: -301433487360.0000 - accuracy: 0.1370 - val_loss: -389316214784.0000 - val_accuracy: 0.1176\n",
            "Epoch 29/30\n",
            "5/5 [==============================] - 23s 4s/step - loss: -400770564096.0000 - accuracy: 0.1370 - val_loss: -513316356096.0000 - val_accuracy: 0.1176\n",
            "Epoch 30/30\n",
            "5/5 [==============================] - 20s 4s/step - loss: -526186348544.0000 - accuracy: 0.1370 - val_loss: -671844139008.0000 - val_accuracy: 0.1176\n"
          ]
        }
      ]
    },
    {
      "cell_type": "code",
      "source": [
        "import matplotlib.pyplot as plt\n",
        "\n",
        "plt.plot(history.history['accuracy'],color='red',label='train')\n",
        "plt.plot(history.history['val_accuracy'],color='blue',label='validation')\n",
        "plt.legend()\n",
        "plt.show()"
      ],
      "metadata": {
        "colab": {
          "base_uri": "https://localhost:8080/",
          "height": 430
        },
        "id": "YOjcgRnognjw",
        "outputId": "20146529-7bc3-46f6-f7f9-4f5c314d6c45"
      },
      "execution_count": 38,
      "outputs": [
        {
          "output_type": "display_data",
          "data": {
            "text/plain": [
              "<Figure size 640x480 with 1 Axes>"
            ],
            "image/png": "[encoded data removed]"
          },
          "metadata": {}
        }
      ]
    },
    {
      "cell_type": "code",
      "source": [
        "plt.plot(history.history['loss'],color='red',label='train')\n",
        "plt.plot(history.history['val_loss'],color='blue',label='validation')\n",
        "plt.legend()\n",
        "plt.show()"
      ],
      "metadata": {
        "colab": {
          "base_uri": "https://localhost:8080/",
          "height": 445
        },
        "id": "kbIieNpVhALd",
        "outputId": "72385c31-1d8b-44de-936e-98e3a4f46378"
      },
      "execution_count": 39,
      "outputs": [
        {
          "output_type": "display_data",
          "data": {
            "text/plain": [
              "<Figure size 640x480 with 1 Axes>"
            ],
            "image/png": "[encoded data removed]"
          },
          "metadata": {}
        }
      ]
    },
    {
      "cell_type": "code",
      "source": [
        "test_datagen = ImageDataGenerator(rescale=1./255)\n",
        "test_data = test_datagen.flow_from_directory(\n",
        "    test_dir,\n",
        "    target_size=(256,256),\n",
        "    batch_size=32,\n",
        "    class_mode='binary'\n",
        ")"
      ],
      "metadata": {
        "colab": {
          "base_uri": "https://localhost:8080/"
        },
        "id": "jEWQgwdfhEk_",
        "outputId": "baf0cdfc-78dc-484c-eb8b-09c0f0d8deeb"
      },
      "execution_count": 40,
      "outputs": [
        {
          "output_type": "stream",
          "name": "stdout",
          "text": [
            "Found 272 images belonging to 5 classes.\n"
          ]
        }
      ]
    },
    {
      "cell_type": "code",
      "source": [
        "#predict the test data\n",
        "predictions = model.predict(test_data)\n",
        "print(predictions)"
      ],
      "metadata": {
        "colab": {
          "base_uri": "https://localhost:8080/"
        },
        "id": "SSUqDGHjhJEv",
        "outputId": "c7ffd760-8549-404c-b10f-2538fcdbbb5d"
      },
      "execution_count": 41,
      "outputs": [
        {
          "output_type": "stream",
          "name": "stdout",
          "text": [
            "9/9 [==============================] - 12s 1s/step\n",
            "[[1.]\n",
            " [1.]\n",
            " [1.]\n",
            " [1.]\n",
            " [1.]\n",
            " [1.]\n",
            " [1.]\n",
            " [1.]\n",
            " [1.]\n",
            " [1.]\n",
            " [1.]\n",
            " [1.]\n",
            " [1.]\n",
            " [1.]\n",
            " [1.]\n",
            " [1.]\n",
            " [1.]\n",
            " [1.]\n",
            " [1.]\n",
            " [1.]\n",
            " [1.]\n",
            " [1.]\n",
            " [1.]\n",
            " [1.]\n",
            " [1.]\n",
            " [1.]\n",
            " [1.]\n",
            " [1.]\n",
            " [1.]\n",
            " [1.]\n",
            " [1.]\n",
            " [1.]\n",
            " [1.]\n",
            " [1.]\n",
            " [1.]\n",
            " [1.]\n",
            " [1.]\n",
            " [1.]\n",
            " [1.]\n",
            " [1.]\n",
            " [1.]\n",
            " [1.]\n",
            " [1.]\n",
            " [1.]\n",
            " [1.]\n",
            " [1.]\n",
            " [1.]\n",
            " [1.]\n",
            " [1.]\n",
            " [1.]\n",
            " [1.]\n",
            " [1.]\n",
            " [1.]\n",
            " [1.]\n",
            " [1.]\n",
            " [1.]\n",
            " [1.]\n",
            " [1.]\n",
            " [1.]\n",
            " [1.]\n",
            " [1.]\n",
            " [1.]\n",
            " [1.]\n",
            " [1.]\n",
            " [1.]\n",
            " [1.]\n",
            " [1.]\n",
            " [1.]\n",
            " [1.]\n",
            " [1.]\n",
            " [1.]\n",
            " [1.]\n",
            " [1.]\n",
            " [1.]\n",
            " [1.]\n",
            " [1.]\n",
            " [1.]\n",
            " [1.]\n",
            " [1.]\n",
            " [1.]\n",
            " [1.]\n",
            " [1.]\n",
            " [1.]\n",
            " [1.]\n",
            " [1.]\n",
            " [1.]\n",
            " [1.]\n",
            " [1.]\n",
            " [1.]\n",
            " [1.]\n",
            " [1.]\n",
            " [1.]\n",
            " [1.]\n",
            " [1.]\n",
            " [1.]\n",
            " [1.]\n",
            " [1.]\n",
            " [1.]\n",
            " [1.]\n",
            " [1.]\n",
            " [1.]\n",
            " [1.]\n",
            " [1.]\n",
            " [1.]\n",
            " [1.]\n",
            " [1.]\n",
            " [1.]\n",
            " [1.]\n",
            " [1.]\n",
            " [1.]\n",
            " [1.]\n",
            " [1.]\n",
            " [1.]\n",
            " [1.]\n",
            " [1.]\n",
            " [1.]\n",
            " [1.]\n",
            " [1.]\n",
            " [1.]\n",
            " [1.]\n",
            " [1.]\n",
            " [1.]\n",
            " [1.]\n",
            " [1.]\n",
            " [1.]\n",
            " [1.]\n",
            " [1.]\n",
            " [1.]\n",
            " [1.]\n",
            " [1.]\n",
            " [1.]\n",
            " [1.]\n",
            " [1.]\n",
            " [1.]\n",
            " [1.]\n",
            " [1.]\n",
            " [1.]\n",
            " [1.]\n",
            " [1.]\n",
            " [1.]\n",
            " [1.]\n",
            " [1.]\n",
            " [1.]\n",
            " [1.]\n",
            " [1.]\n",
            " [1.]\n",
            " [1.]\n",
            " [1.]\n",
            " [1.]\n",
            " [1.]\n",
            " [1.]\n",
            " [1.]\n",
            " [1.]\n",
            " [1.]\n",
            " [1.]\n",
            " [1.]\n",
            " [1.]\n",
            " [1.]\n",
            " [1.]\n",
            " [1.]\n",
            " [1.]\n",
            " [1.]\n",
            " [1.]\n",
            " [1.]\n",
            " [1.]\n",
            " [1.]\n",
            " [1.]\n",
            " [1.]\n",
            " [1.]\n",
            " [1.]\n",
            " [1.]\n",
            " [1.]\n",
            " [1.]\n",
            " [1.]\n",
            " [1.]\n",
            " [1.]\n",
            " [1.]\n",
            " [1.]\n",
            " [1.]\n",
            " [1.]\n",
            " [1.]\n",
            " [1.]\n",
            " [1.]\n",
            " [1.]\n",
            " [1.]\n",
            " [1.]\n",
            " [1.]\n",
            " [1.]\n",
            " [1.]\n",
            " [1.]\n",
            " [1.]\n",
            " [1.]\n",
            " [1.]\n",
            " [1.]\n",
            " [1.]\n",
            " [1.]\n",
            " [1.]\n",
            " [1.]\n",
            " [1.]\n",
            " [1.]\n",
            " [1.]\n",
            " [1.]\n",
            " [1.]\n",
            " [1.]\n",
            " [1.]\n",
            " [1.]\n",
            " [1.]\n",
            " [1.]\n",
            " [1.]\n",
            " [1.]\n",
            " [1.]\n",
            " [1.]\n",
            " [1.]\n",
            " [1.]\n",
            " [1.]\n",
            " [1.]\n",
            " [1.]\n",
            " [1.]\n",
            " [1.]\n",
            " [1.]\n",
            " [1.]\n",
            " [1.]\n",
            " [1.]\n",
            " [1.]\n",
            " [1.]\n",
            " [1.]\n",
            " [1.]\n",
            " [1.]\n",
            " [1.]\n",
            " [1.]\n",
            " [1.]\n",
            " [1.]\n",
            " [1.]\n",
            " [1.]\n",
            " [1.]\n",
            " [1.]\n",
            " [1.]\n",
            " [1.]\n",
            " [1.]\n",
            " [1.]\n",
            " [1.]\n",
            " [1.]\n",
            " [1.]\n",
            " [1.]\n",
            " [1.]\n",
            " [1.]\n",
            " [1.]\n",
            " [1.]\n",
            " [1.]\n",
            " [1.]\n",
            " [1.]\n",
            " [1.]\n",
            " [1.]\n",
            " [1.]\n",
            " [1.]\n",
            " [1.]\n",
            " [1.]\n",
            " [1.]\n",
            " [1.]\n",
            " [1.]\n",
            " [1.]\n",
            " [1.]\n",
            " [1.]\n",
            " [1.]\n",
            " [1.]\n",
            " [1.]\n",
            " [1.]\n",
            " [1.]\n",
            " [1.]\n",
            " [1.]\n",
            " [1.]\n",
            " [1.]]\n"
          ]
        }
      ]
    },
    {
      "cell_type": "code",
      "source": [
        "len(predictions)"
      ],
      "metadata": {
        "colab": {
          "base_uri": "https://localhost:8080/"
        },
        "id": "QZlSxgzwhO8M",
        "outputId": "9e9b1455-7aac-4043-87d5-0389927ffe27"
      },
      "execution_count": 42,
      "outputs": [
        {
          "output_type": "execute_result",
          "data": {
            "text/plain": [
              "272"
            ]
          },
          "metadata": {},
          "execution_count": 42
        }
      ]
    },
    {
      "cell_type": "code",
      "source": [
        "from sklearn.metrics import confusion_matrix, classification_report\n",
        "\n",
        "# Assuming you have ground truth labels (true_labels) and predicted labels (predictions)\n",
        "true_labels = test_data.classes\n",
        "predicted_labels = (predictions > 0.5).astype(int)  # Adjust the threshold as needed\n",
        "\n",
        "# Calculate confusion matrix\n",
        "cm = confusion_matrix(true_labels, predicted_labels)\n",
        "\n",
        "# Print confusion matrix\n",
        "print(\"Confusion Matrix:\")\n",
        "print(cm)\n",
        "\n",
        "# Print classification report\n",
        "print(\"Classification Report:\")\n",
        "print(classification_report(true_labels, predicted_labels))"
      ],
      "metadata": {
        "colab": {
          "base_uri": "https://localhost:8080/"
        },
        "id": "t9p3GgtYhjRW",
        "outputId": "fa3eb7fd-dc15-4650-abbc-10c3eadbf390"
      },
      "execution_count": 43,
      "outputs": [
        {
          "output_type": "stream",
          "name": "stdout",
          "text": [
            "Confusion Matrix:\n",
            "[[ 0 72  0  0  0]\n",
            " [ 0 56  0  0  0]\n",
            " [ 0 36  0  0  0]\n",
            " [ 0 48  0  0  0]\n",
            " [ 0 60  0  0  0]]\n",
            "Classification Report:\n",
            "              precision    recall  f1-score   support\n",
            "\n",
            "           0       0.00      0.00      0.00        72\n",
            "           1       0.21      1.00      0.34        56\n",
            "           2       0.00      0.00      0.00        36\n",
            "           3       0.00      0.00      0.00        48\n",
            "           4       0.00      0.00      0.00        60\n",
            "\n",
            "    accuracy                           0.21       272\n",
            "   macro avg       0.04      0.20      0.07       272\n",
            "weighted avg       0.04      0.21      0.07       272\n",
            "\n"
          ]
        }
      ]
    }
  ]
}